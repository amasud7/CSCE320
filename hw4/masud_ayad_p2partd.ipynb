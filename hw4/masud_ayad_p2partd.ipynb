{
 "cells": [
  {
   "cell_type": "code",
   "execution_count": 1,
   "id": "6750c335",
   "metadata": {},
   "outputs": [],
   "source": [
    "import numpy as np\n",
    "import matplotlib.pyplot as plt\n",
    "import pandas as pd\n",
    "import seaborn as sns"
   ]
  },
  {
   "cell_type": "code",
   "execution_count": 2,
   "id": "336b94f9",
   "metadata": {},
   "outputs": [],
   "source": [
    "# import the data\n",
    "x1 = pd.read_csv('HW4 Data/p2/x1.csv')\n",
    "x2 = pd.read_csv('HW4 Data/p2/x2.csv')\n",
    "x3 = pd.read_csv('HW4 Data/p2/x3.csv')\n",
    "\n",
    "y1 = pd.read_csv('HW4 Data/p2/c1.csv')\n",
    "y2 = pd.read_csv('HW4 Data/p2/c2.csv')\n",
    "y3 = pd.read_csv('HW4 Data/p2/c3.csv')"
   ]
  },
  {
   "cell_type": "code",
   "execution_count": 3,
   "id": "8900556d",
   "metadata": {},
   "outputs": [
    {
     "name": "stdout",
     "output_type": "stream",
     "text": [
      "Fitting 5 folds for each of 81 candidates, totalling 405 fits\n",
      "Best parameters: {'classifier__max_depth': None, 'classifier__min_samples_leaf': 1, 'classifier__min_samples_split': 2, 'classifier__n_estimators': 100}\n",
      "Best cross-validation score: 0.8856\n"
     ]
    },
    {
     "name": "stderr",
     "output_type": "stream",
     "text": [
      "/opt/homebrew/anaconda3/lib/python3.10/site-packages/sklearn/ensemble/_base.py:166: FutureWarning: `base_estimator` was renamed to `estimator` in version 1.2 and will be removed in 1.4.\n",
      "  warnings.warn(\n",
      "/opt/homebrew/anaconda3/lib/python3.10/site-packages/sklearn/ensemble/_base.py:166: FutureWarning: `base_estimator` was renamed to `estimator` in version 1.2 and will be removed in 1.4.\n",
      "  warnings.warn(\n",
      "/opt/homebrew/anaconda3/lib/python3.10/site-packages/sklearn/ensemble/_base.py:166: FutureWarning: `base_estimator` was renamed to `estimator` in version 1.2 and will be removed in 1.4.\n",
      "  warnings.warn(\n",
      "/opt/homebrew/anaconda3/lib/python3.10/site-packages/sklearn/ensemble/_base.py:166: FutureWarning: `base_estimator` was renamed to `estimator` in version 1.2 and will be removed in 1.4.\n",
      "  warnings.warn(\n",
      "/opt/homebrew/anaconda3/lib/python3.10/site-packages/sklearn/ensemble/_base.py:166: FutureWarning: `base_estimator` was renamed to `estimator` in version 1.2 and will be removed in 1.4.\n",
      "  warnings.warn(\n",
      "/opt/homebrew/anaconda3/lib/python3.10/site-packages/sklearn/ensemble/_base.py:166: FutureWarning: `base_estimator` was renamed to `estimator` in version 1.2 and will be removed in 1.4.\n",
      "  warnings.warn(\n"
     ]
    },
    {
     "name": "stdout",
     "output_type": "stream",
     "text": [
      "Bagging cross-validation scores: [0.84322034 0.86440678 0.86440678 0.86864407 0.87288136]\n",
      "Mean bagging accuracy: 0.8627\n",
      "Using best model from grid search as final model\n",
      "Final validation accuracy: 0.8771\n",
      "\n",
      "Classification Report:\n",
      "              precision    recall  f1-score   support\n",
      "\n",
      "         1.0       0.85      0.73      0.79        15\n",
      "         2.0       0.94      0.76      0.84        21\n",
      "         3.0       0.89      0.76      0.82        21\n",
      "         4.0       0.92      0.79      0.85        14\n",
      "         5.0       0.80      0.97      0.88        34\n",
      "         6.0       0.95      1.00      0.98        41\n",
      "         7.0       0.91      0.88      0.89        24\n",
      "         8.0       0.91      0.88      0.89        33\n",
      "         9.0       0.79      0.95      0.86        20\n",
      "        10.0       0.77      0.77      0.77        13\n",
      "\n",
      "    accuracy                           0.88       236\n",
      "   macro avg       0.87      0.85      0.86       236\n",
      "weighted avg       0.88      0.88      0.88       236\n",
      "\n"
     ]
    }
   ],
   "source": [
    "from sklearn.model_selection import train_test_split, cross_val_score, GridSearchCV, StratifiedKFold\n",
    "from sklearn.ensemble import RandomForestClassifier, BaggingClassifier\n",
    "from sklearn.metrics import accuracy_score, classification_report\n",
    "from sklearn.impute import SimpleImputer\n",
    "from sklearn.pipeline import Pipeline\n",
    "\n",
    "# Reset column names to be the same across all datasets\n",
    "common_columns = [f'feature_{i}' for i in range(x1.shape[1])]\n",
    "x1.columns = common_columns\n",
    "x2.columns = common_columns\n",
    "x3.columns = common_columns\n",
    "\n",
    "# Combine datasets x1 and x2 for training\n",
    "X_train = pd.concat([x1, x2])\n",
    "y_train = pd.concat([y1, y2])\n",
    "\n",
    "# Convert y_train to a 1D array for easier handling of NaNs\n",
    "y_train_array = y_train.iloc[:, 0].values  # Take the first column \n",
    "\n",
    "# Filter out NaN values for training\n",
    "valid_train_indices = ~np.isnan(y_train_array)\n",
    "X_train_clean = X_train[valid_train_indices]\n",
    "y_train_clean = y_train_array[valid_train_indices]\n",
    "\n",
    "# Set up cross-validation\n",
    "cv = StratifiedKFold(n_splits=5, shuffle=True, random_state=42)\n",
    "\n",
    "# Create a pipeline with imputation and classifier\n",
    "pipeline = Pipeline([\n",
    "    ('imputer', SimpleImputer(strategy='mean')),\n",
    "    ('classifier', RandomForestClassifier(random_state=42))\n",
    "])\n",
    "\n",
    "# Define parameters for grid search\n",
    "param_grid = {\n",
    "    'classifier__n_estimators': [100, 200, 300],\n",
    "    'classifier__max_depth': [None, 10, 20],\n",
    "    'classifier__min_samples_split': [2, 5, 10],\n",
    "    'classifier__min_samples_leaf': [1, 2, 4]\n",
    "}\n",
    "\n",
    "# Perform grid search with cross-validation\n",
    "grid_search = GridSearchCV(\n",
    "    pipeline, param_grid, cv=cv, scoring='accuracy', n_jobs=-1, verbose=1\n",
    ")\n",
    "grid_search.fit(X_train_clean, y_train_clean)\n",
    "\n",
    "# Print results\n",
    "print(f\"Best parameters: {grid_search.best_params_}\")\n",
    "print(f\"Best cross-validation score: {grid_search.best_score_:.4f}\")\n",
    "\n",
    "# Get the best model\n",
    "best_model = grid_search.best_estimator_\n",
    "\n",
    "# Try bagging with the best model\n",
    "bagging_classifier = BaggingClassifier(\n",
    "    base_estimator=best_model,\n",
    "    n_estimators=10,\n",
    "    max_samples=0.8,\n",
    "    max_features=0.8,\n",
    "    bootstrap=True,\n",
    "    bootstrap_features=False,\n",
    "    random_state=42\n",
    ")\n",
    "bagging_classifier.fit(X_train_clean, y_train_clean)\n",
    "\n",
    "# Evaluate the bagging classifier with cross-validation\n",
    "bagging_scores = cross_val_score(bagging_classifier, X_train_clean, y_train_clean, cv=cv)\n",
    "print(f\"Bagging cross-validation scores: {bagging_scores}\")\n",
    "print(f\"Mean bagging accuracy: {bagging_scores.mean():.4f}\")\n",
    "\n",
    "# Choose the final model based on cross-validation results\n",
    "if bagging_scores.mean() > grid_search.best_score_:\n",
    "    print(\"Using bagging classifier as final model\")\n",
    "    final_model = bagging_classifier\n",
    "else:\n",
    "    print(\"Using best model from grid search as final model\")\n",
    "    final_model = best_model\n",
    "\n",
    "# Final validation on a holdout set\n",
    "X_train_final, X_val_final, y_train_final, y_val_final = train_test_split(\n",
    "    X_train_clean, y_train_clean, test_size=0.2, random_state=42\n",
    ")\n",
    "final_model.fit(X_train_final, y_train_final)\n",
    "val_preds = final_model.predict(X_val_final)\n",
    "val_accuracy = accuracy_score(y_val_final, val_preds)\n",
    "print(f\"Final validation accuracy: {val_accuracy:.4f}\")\n",
    "print(\"\\nClassification Report:\")\n",
    "print(classification_report(y_val_final, val_preds))"
   ]
  },
  {
   "cell_type": "code",
   "execution_count": null,
   "id": "d8ccd058",
   "metadata": {},
   "outputs": [
    {
     "name": "stdout",
     "output_type": "stream",
     "text": [
      "Made predictions for 2246 samples\n",
      "Predictions saved to 'x3_predictions.csv'\n"
     ]
    }
   ],
   "source": [
    "# this is where to replace test file\n",
    "x3_test = pd.read_csv('x3.csv')\n",
    "# x3_test = x3.copy()\n",
    "\n",
    "# Impute any missing values using the same imputer that was fitted on training data\n",
    "# X_test_imputed = imputer.transform(X_test)\n",
    "\n",
    "# Make predictions with the final model\n",
    "y_test_pred = final_model.predict(x3_test)\n",
    "\n",
    "# Convert predictions to integers\n",
    "y_test_pred_int = y_test_pred.astype(int)\n",
    "\n",
    "# Save predictions to CSV without header and index\n",
    "np.savetxt('x3_predictions.csv', y_test_pred_int, fmt='%d')\n",
    "\n",
    "print(f\"Made predictions for {len(x3_test)} samples\")\n",
    "print(f\"Predictions saved to 'x3_predictions.csv'\")"
   ]
  }
 ],
 "metadata": {
  "kernelspec": {
   "display_name": "base",
   "language": "python",
   "name": "python3"
  },
  "language_info": {
   "codemirror_mode": {
    "name": "ipython",
    "version": 3
   },
   "file_extension": ".py",
   "mimetype": "text/x-python",
   "name": "python",
   "nbconvert_exporter": "python",
   "pygments_lexer": "ipython3",
   "version": "3.10.9"
  }
 },
 "nbformat": 4,
 "nbformat_minor": 5
}
